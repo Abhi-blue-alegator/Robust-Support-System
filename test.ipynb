{
 "cells": [
  {
   "cell_type": "code",
   "execution_count": 1,
   "metadata": {},
   "outputs": [],
   "source": [
    "# pip install langchain langchain_openai langchain_community datasets streamlit ragas PyPDF2"
   ]
  },
  {
   "cell_type": "code",
   "execution_count": 46,
   "metadata": {},
   "outputs": [],
   "source": [
    "from dotenv import load_dotenv\n",
    "import os\n",
    "\n",
    "# Load the .env file\n",
    "load_dotenv()\n",
    "\n",
    "# Get the API key from the environment variable\n",
    "openai_api_key = os.getenv(\"OPENAI_API_KEY\")\n"
   ]
  },
  {
   "cell_type": "code",
   "execution_count": 2,
   "metadata": {},
   "outputs": [],
   "source": [
    "import streamlit as st\n",
    "from PyPDF2 import PdfReader\n",
    "from langchain.text_splitter import CharacterTextSplitter\n",
    "from langchain_openai import OpenAIEmbeddings\n",
    "from langchain_community.vectorstores import FAISS\n",
    "from langchain_openai import ChatOpenAI\n",
    "from langchain.prompts import ChatPromptTemplate \n",
    "from langchain.schema.runnable import RunnablePassthrough\n",
    "from langchain.schema.output_parser import StrOutputParser\n",
    "from datasets import Dataset\n",
    "from ragas import evaluate\n",
    "from ragas.metrics import (\n",
    "    faithfulness,\n",
    "    answer_relevancy,\n",
    "    context_recall,\n",
    "    context_precision\n",
    "\n",
    ")"
   ]
  },
  {
   "cell_type": "code",
   "execution_count": 4,
   "metadata": {},
   "outputs": [],
   "source": [
    "pdf = r\"C:\\Users\\abhisheka\\OneDrive - USEReady Technology Private Limited\\Desktop\\RAGAS\\Streamlit with Databricks.pdf\"\n",
    "\n",
    "if pdf is not None:\n",
    "    pdf_reader = PdfReader(pdf)\n",
    "    text = \"\"\n",
    "    for page in pdf_reader.pages:\n",
    "        text += page.extract_text()"
   ]
  },
  {
   "cell_type": "code",
   "execution_count": 6,
   "metadata": {},
   "outputs": [],
   "source": [
    "#text"
   ]
  },
  {
   "cell_type": "code",
   "execution_count": 48,
   "metadata": {},
   "outputs": [],
   "source": [
    "\n",
    "text_splitter = CharacterTextSplitter(\n",
    "    separator=\"\\n\",\n",
    "    chunk_size=500,\n",
    "    chunk_overlap=100,\n",
    "    length_function=len,\n",
    ")\n",
    "\n",
    "chunks = text_splitter.split_text(text)\n",
    "embeddings = OpenAIEmbeddings()\n",
    "vectorstore = FAISS.from_texts(chunks, embeddings)"
   ]
  },
  {
   "cell_type": "code",
   "execution_count": 47,
   "metadata": {},
   "outputs": [],
   "source": [
    "retriever = vectorstore.as_retriever()\n",
    "\n",
    "llm = ChatOpenAI(model_name = \"gpt-3.5-turbo\", temperature=0)\n",
    "\n",
    "template = \"\"\" you are a helpful pdf assistant. \n",
    "        Given the following pdf, answer the question based on the context.\n",
    "        If you don't know the answer, just say that you don't know. \n",
    "        Do not make up an answer.\n",
    "\n",
    "        Question: {question}\n",
    "        Context: {context}\n",
    "        \n",
    "        Answer:\"\"\"\n",
    "\n",
    "prompt = ChatPromptTemplate.from_template(template)"
   ]
  },
  {
   "cell_type": "code",
   "execution_count": 9,
   "metadata": {},
   "outputs": [],
   "source": [
    "rag_chain = (\n",
    "    {\"context\": retriever, \"question\": RunnablePassthrough()}\n",
    "    | prompt\n",
    "    | llm\n",
    "    |StrOutputParser()\n",
    "    \n",
    ")"
   ]
  },
  {
   "cell_type": "code",
   "execution_count": 10,
   "metadata": {},
   "outputs": [
    {
     "name": "stderr",
     "output_type": "stream",
     "text": [
      "C:\\Users\\abhisheka\\AppData\\Roaming\\Python\\Python311\\site-packages\\langchain_core\\_api\\deprecation.py:119: LangChainDeprecationWarning: The method `BaseRetriever.get_relevant_documents` was deprecated in langchain-core 0.1.46 and will be removed in 0.3.0. Use invoke instead.\n",
      "  warn_deprecated(\n"
     ]
    }
   ],
   "source": [
    "questions = [\"what are the common uses of databricks?\",\n",
    "                \"when can we integrate databricks into streamlit?\"]\n",
    "\n",
    "ground_truths=[[\"Databricks is commonly used for big data analytics and processing, particularly for Apache Spark-based data processing tasks. It provides a unified analytics platform that integrates with various data sourcesand supports collaborative data science workflows. Additionally, it's utilized for machine learning, data engineering, and real-time analytics applications.\"],\n",
    "                [\"We can integrate Databricks into your Streamlit app for data processing tasks by leveraging Databricks as a backend service. For example, you can use Databricks for heavy-duty data transformations, machine learning model training, or large-scale data analysis tasks.\"]]\n",
    "\n",
    "\n",
    "answers=[]\n",
    "contexts=[]\n",
    "\n",
    "for query in questions:\n",
    "    answers.append(rag_chain.invoke(query))\n",
    "    contexts.append([docs.page_content for docs in retriever.get_relevant_documents(query)])\n"
   ]
  },
  {
   "cell_type": "code",
   "execution_count": 12,
   "metadata": {},
   "outputs": [
    {
     "data": {
      "text/plain": [
       "[[\"STREAMLIT\\nAPPS WITH \\nDATABRICKS \\nML apps that can have\\npowerful backend support\\nwith DatabricksCOMMON USES OF \\nDATABRICKS\\n•Databricks is commonly used for big data analytics and \\nprocessing, particularly for Apache Spark-based data \\nprocessing tasks. It provides a unified analytics platform \\nthat integrates with various data sources and supports \\ncollaborative data science workflows. Additionally, it's \\nutilized for machine learning, data engineering, and \\nreal-time analytics applications.\",\n",
       "  \"1. Data Preprocessing : Databricks can handle the preprocessing of PDF files, \\nextracting text and relevant information from them efficiently at scale.\\n2. Data Analysis : You can use Databricks to analyze the extracted text data, \\nperform natural language processing tasks, and extract insights to aid in the \\nscreening process.\\n3. Model Training : If you're using machine learning models, Databricks can be \\nused to train these models on large datasets, optimizing performance and \\nscalability.\",\n",
       "  \"like Heroku or AWS for better performance and scalability. \\nDatabricks could be integrated into your app for data \\nprocessing tasks if needed, but it's not typically used for \\nhosting web applications.\\nINTEGRATING \\nDATABRICKS INTO \\nSTREAMLIT\\n•We can integrate Databricks into your \\nStreamlit app for data processing tasks by \\nleveraging Databricks as a backend service. \\nFor example, you can use Databricks for \\nheavy-duty data transformations, machine \\nlearning model training, or large-scale data\",\n",
       "  \"which is optimized for big data processing, \\nwhile still providing a user-friendly interface \\nthrough Streamlit for interacting with and \\nvisualizing the results of these tasks. It's a \\npowerful combination that combines the \\nstrengths of both platforms for a seamless \\ndata processing and analysis experience.\\nHOW WILL DATABRICKS \\nPLAY A ROLE\\n•Databricks can play a role in several aspects of your resume screener app:\\n1. Data Preprocessing : Databricks can handle the preprocessing of PDF files,\"],\n",
       " ['heavy-duty data transformations, machine \\nlearning model training, or large-scale data \\nanalysis tasks. Your Streamlit app can \\ncommunicate with Databricks through its \\nREST API or by using Databricks libraries \\ndirectly within your Python code.\\nINTEGRATING \\nDATABRICKS INTO \\nSTREAMLIT\\nThis integration allows you to offload \\nresource-intensive tasks to Databricks, \\nwhich is optimized for big data processing, \\nwhile still providing a user-friendly interface',\n",
       "  \"like Heroku or AWS for better performance and scalability. \\nDatabricks could be integrated into your app for data \\nprocessing tasks if needed, but it's not typically used for \\nhosting web applications.\\nINTEGRATING \\nDATABRICKS INTO \\nSTREAMLIT\\n•We can integrate Databricks into your \\nStreamlit app for data processing tasks by \\nleveraging Databricks as a backend service. \\nFor example, you can use Databricks for \\nheavy-duty data transformations, machine \\nlearning model training, or large-scale data\",\n",
       "  'utilized for machine learning, data engineering, and \\nreal-time analytics applications.\\nIS HOSTING A STREAMLIT \\nAPP ON DATABRICKS A \\nGOOD IDEA?\\nRunning a Streamlit app like resume screener on \\nDatabricks might not be the best fit. Databricks is more \\nsuited for big data processing and analytics tasks, while \\nStreamlit is designed for building interactive web apps \\nwith Python. You can host your Streamlit app on platforms \\nlike Heroku or AWS for better performance and scalability.',\n",
       "  \"which is optimized for big data processing, \\nwhile still providing a user-friendly interface \\nthrough Streamlit for interacting with and \\nvisualizing the results of these tasks. It's a \\npowerful combination that combines the \\nstrengths of both platforms for a seamless \\ndata processing and analysis experience.\\nHOW WILL DATABRICKS \\nPLAY A ROLE\\n•Databricks can play a role in several aspects of your resume screener app:\\n1. Data Preprocessing : Databricks can handle the preprocessing of PDF files,\"]]"
      ]
     },
     "execution_count": 12,
     "metadata": {},
     "output_type": "execute_result"
    }
   ],
   "source": [
    "contexts"
   ]
  },
  {
   "cell_type": "code",
   "execution_count": 36,
   "metadata": {},
   "outputs": [],
   "source": [
    "data = {\n",
    "    \"question\": questions,\n",
    "    \"answer\": answers,\n",
    "    \"contexts\": contexts,\n",
    "    \"ground_truths\": ground_truths}\n",
    "    "
   ]
  },
  {
   "cell_type": "code",
   "execution_count": 37,
   "metadata": {},
   "outputs": [
    {
     "data": {
      "text/plain": [
       "{'question': ['what are the common uses of databricks?',\n",
       "  'when can we integrate databricks into streamlit?'],\n",
       " 'answer': ['Common uses of Databricks include big data analytics and processing, particularly for Apache Spark-based data processing tasks. It also provides a unified analytics platform that integrates with various data sources and supports collaborative data science workflows. Additionally, Databricks is utilized for machine learning, data engineering, and real-time analytics applications.',\n",
       "  'You can integrate Databricks into Streamlit for data processing tasks by leveraging Databricks as a backend service.'],\n",
       " 'contexts': [[\"STREAMLIT\\nAPPS WITH \\nDATABRICKS \\nML apps that can have\\npowerful backend support\\nwith DatabricksCOMMON USES OF \\nDATABRICKS\\n•Databricks is commonly used for big data analytics and \\nprocessing, particularly for Apache Spark-based data \\nprocessing tasks. It provides a unified analytics platform \\nthat integrates with various data sources and supports \\ncollaborative data science workflows. Additionally, it's \\nutilized for machine learning, data engineering, and \\nreal-time analytics applications.\",\n",
       "   \"1. Data Preprocessing : Databricks can handle the preprocessing of PDF files, \\nextracting text and relevant information from them efficiently at scale.\\n2. Data Analysis : You can use Databricks to analyze the extracted text data, \\nperform natural language processing tasks, and extract insights to aid in the \\nscreening process.\\n3. Model Training : If you're using machine learning models, Databricks can be \\nused to train these models on large datasets, optimizing performance and \\nscalability.\",\n",
       "   \"like Heroku or AWS for better performance and scalability. \\nDatabricks could be integrated into your app for data \\nprocessing tasks if needed, but it's not typically used for \\nhosting web applications.\\nINTEGRATING \\nDATABRICKS INTO \\nSTREAMLIT\\n•We can integrate Databricks into your \\nStreamlit app for data processing tasks by \\nleveraging Databricks as a backend service. \\nFor example, you can use Databricks for \\nheavy-duty data transformations, machine \\nlearning model training, or large-scale data\",\n",
       "   \"which is optimized for big data processing, \\nwhile still providing a user-friendly interface \\nthrough Streamlit for interacting with and \\nvisualizing the results of these tasks. It's a \\npowerful combination that combines the \\nstrengths of both platforms for a seamless \\ndata processing and analysis experience.\\nHOW WILL DATABRICKS \\nPLAY A ROLE\\n•Databricks can play a role in several aspects of your resume screener app:\\n1. Data Preprocessing : Databricks can handle the preprocessing of PDF files,\"],\n",
       "  ['heavy-duty data transformations, machine \\nlearning model training, or large-scale data \\nanalysis tasks. Your Streamlit app can \\ncommunicate with Databricks through its \\nREST API or by using Databricks libraries \\ndirectly within your Python code.\\nINTEGRATING \\nDATABRICKS INTO \\nSTREAMLIT\\nThis integration allows you to offload \\nresource-intensive tasks to Databricks, \\nwhich is optimized for big data processing, \\nwhile still providing a user-friendly interface',\n",
       "   \"like Heroku or AWS for better performance and scalability. \\nDatabricks could be integrated into your app for data \\nprocessing tasks if needed, but it's not typically used for \\nhosting web applications.\\nINTEGRATING \\nDATABRICKS INTO \\nSTREAMLIT\\n•We can integrate Databricks into your \\nStreamlit app for data processing tasks by \\nleveraging Databricks as a backend service. \\nFor example, you can use Databricks for \\nheavy-duty data transformations, machine \\nlearning model training, or large-scale data\",\n",
       "   'utilized for machine learning, data engineering, and \\nreal-time analytics applications.\\nIS HOSTING A STREAMLIT \\nAPP ON DATABRICKS A \\nGOOD IDEA?\\nRunning a Streamlit app like resume screener on \\nDatabricks might not be the best fit. Databricks is more \\nsuited for big data processing and analytics tasks, while \\nStreamlit is designed for building interactive web apps \\nwith Python. You can host your Streamlit app on platforms \\nlike Heroku or AWS for better performance and scalability.',\n",
       "   \"which is optimized for big data processing, \\nwhile still providing a user-friendly interface \\nthrough Streamlit for interacting with and \\nvisualizing the results of these tasks. It's a \\npowerful combination that combines the \\nstrengths of both platforms for a seamless \\ndata processing and analysis experience.\\nHOW WILL DATABRICKS \\nPLAY A ROLE\\n•Databricks can play a role in several aspects of your resume screener app:\\n1. Data Preprocessing : Databricks can handle the preprocessing of PDF files,\"]],\n",
       " 'ground_truths': [[\"Databricks is commonly used for big data analytics and processing, particularly for Apache Spark-based data processing tasks. It provides a unified analytics platform that integrates with various data sourcesand supports collaborative data science workflows. Additionally, it's utilized for machine learning, data engineering, and real-time analytics applications.\"],\n",
       "  ['We can integrate Databricks into your Streamlit app for data processing tasks by leveraging Databricks as a backend service. For example, you can use Databricks for heavy-duty data transformations, machine learning model training, or large-scale data analysis tasks.']]}"
      ]
     },
     "execution_count": 37,
     "metadata": {},
     "output_type": "execute_result"
    }
   ],
   "source": [
    "data"
   ]
  },
  {
   "cell_type": "code",
   "execution_count": 38,
   "metadata": {},
   "outputs": [],
   "source": [
    "\n",
    "dataset = Dataset.from_dict(data)"
   ]
  },
  {
   "cell_type": "code",
   "execution_count": 39,
   "metadata": {},
   "outputs": [
    {
     "data": {
      "text/plain": [
       "Dataset({\n",
       "    features: ['question', 'answer', 'contexts', 'ground_truths'],\n",
       "    num_rows: 2\n",
       "})"
      ]
     },
     "execution_count": 39,
     "metadata": {},
     "output_type": "execute_result"
    }
   ],
   "source": [
    "dataset"
   ]
  },
  {
   "cell_type": "code",
   "execution_count": 49,
   "metadata": {},
   "outputs": [
    {
     "name": "stderr",
     "output_type": "stream",
     "text": [
      "passing column names as 'ground_truths' is deprecated and will be removed in the next version, please use 'ground_truth' instead. Note that `ground_truth` should be of type string and not Sequence[string] like `ground_truths`\n"
     ]
    },
    {
     "data": {
      "application/vnd.jupyter.widget-view+json": {
       "model_id": "7a19cd0dff0a443ca0b9591969455a64",
       "version_major": 2,
       "version_minor": 0
      },
      "text/plain": [
       "Evaluating:   0%|          | 0/8 [00:00<?, ?it/s]"
      ]
     },
     "metadata": {},
     "output_type": "display_data"
    }
   ],
   "source": [
    "result = evaluate(\n",
    "    dataset,\n",
    "    metrics=[context_precision, context_recall, faithfulness, answer_relevancy]\n",
    ")"
   ]
  },
  {
   "cell_type": "code",
   "execution_count": 50,
   "metadata": {},
   "outputs": [],
   "source": [
    "df = result.to_pandas()"
   ]
  },
  {
   "cell_type": "code",
   "execution_count": 51,
   "metadata": {},
   "outputs": [
    {
     "data": {
      "text/html": [
       "<div>\n",
       "<style scoped>\n",
       "    .dataframe tbody tr th:only-of-type {\n",
       "        vertical-align: middle;\n",
       "    }\n",
       "\n",
       "    .dataframe tbody tr th {\n",
       "        vertical-align: top;\n",
       "    }\n",
       "\n",
       "    .dataframe thead th {\n",
       "        text-align: right;\n",
       "    }\n",
       "</style>\n",
       "<table border=\"1\" class=\"dataframe\">\n",
       "  <thead>\n",
       "    <tr style=\"text-align: right;\">\n",
       "      <th></th>\n",
       "      <th>question</th>\n",
       "      <th>answer</th>\n",
       "      <th>contexts</th>\n",
       "      <th>ground_truths</th>\n",
       "      <th>ground_truth</th>\n",
       "      <th>context_precision</th>\n",
       "      <th>context_recall</th>\n",
       "      <th>faithfulness</th>\n",
       "      <th>answer_relevancy</th>\n",
       "    </tr>\n",
       "  </thead>\n",
       "  <tbody>\n",
       "    <tr>\n",
       "      <th>0</th>\n",
       "      <td>what are the common uses of databricks?</td>\n",
       "      <td>Common uses of Databricks include big data ana...</td>\n",
       "      <td>[STREAMLIT\\nAPPS WITH \\nDATABRICKS \\nML apps t...</td>\n",
       "      <td>[Databricks is commonly used for big data anal...</td>\n",
       "      <td>Databricks is commonly used for big data analy...</td>\n",
       "      <td>1.0</td>\n",
       "      <td>1.0</td>\n",
       "      <td>1.0</td>\n",
       "      <td>0.977396</td>\n",
       "    </tr>\n",
       "    <tr>\n",
       "      <th>1</th>\n",
       "      <td>when can we integrate databricks into streamlit?</td>\n",
       "      <td>You can integrate Databricks into Streamlit fo...</td>\n",
       "      <td>[heavy-duty data transformations, machine \\nle...</td>\n",
       "      <td>[We can integrate Databricks into your Streaml...</td>\n",
       "      <td>We can integrate Databricks into your Streamli...</td>\n",
       "      <td>1.0</td>\n",
       "      <td>1.0</td>\n",
       "      <td>1.0</td>\n",
       "      <td>0.929206</td>\n",
       "    </tr>\n",
       "  </tbody>\n",
       "</table>\n",
       "</div>"
      ],
      "text/plain": [
       "                                           question  \\\n",
       "0           what are the common uses of databricks?   \n",
       "1  when can we integrate databricks into streamlit?   \n",
       "\n",
       "                                              answer  \\\n",
       "0  Common uses of Databricks include big data ana...   \n",
       "1  You can integrate Databricks into Streamlit fo...   \n",
       "\n",
       "                                            contexts  \\\n",
       "0  [STREAMLIT\\nAPPS WITH \\nDATABRICKS \\nML apps t...   \n",
       "1  [heavy-duty data transformations, machine \\nle...   \n",
       "\n",
       "                                       ground_truths  \\\n",
       "0  [Databricks is commonly used for big data anal...   \n",
       "1  [We can integrate Databricks into your Streaml...   \n",
       "\n",
       "                                        ground_truth  context_precision  \\\n",
       "0  Databricks is commonly used for big data analy...                1.0   \n",
       "1  We can integrate Databricks into your Streamli...                1.0   \n",
       "\n",
       "   context_recall  faithfulness  answer_relevancy  \n",
       "0             1.0           1.0          0.977396  \n",
       "1             1.0           1.0          0.929206  "
      ]
     },
     "execution_count": 51,
     "metadata": {},
     "output_type": "execute_result"
    }
   ],
   "source": [
    "df"
   ]
  }
 ],
 "metadata": {
  "kernelspec": {
   "display_name": "env",
   "language": "python",
   "name": "python3"
  },
  "language_info": {
   "codemirror_mode": {
    "name": "ipython",
    "version": 3
   },
   "file_extension": ".py",
   "mimetype": "text/x-python",
   "name": "python",
   "nbconvert_exporter": "python",
   "pygments_lexer": "ipython3",
   "version": "3.11.7"
  }
 },
 "nbformat": 4,
 "nbformat_minor": 2
}
